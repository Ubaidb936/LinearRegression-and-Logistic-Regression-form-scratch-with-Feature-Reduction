{
 "cells": [
  {
   "cell_type": "code",
   "execution_count": null,
   "id": "4ef55478",
   "metadata": {},
   "outputs": [],
   "source": [
    "import numpy as np\n",
    "import matplotlib.pyplot as plt"
   ]
  },
  {
   "cell_type": "code",
   "execution_count": null,
   "id": "7ba368c5",
   "metadata": {},
   "outputs": [],
   "source": [
    "def learnlls(X,Y):\n",
    "    # X is the data matrix of shape (m,n)\n",
    "    # Y is are the target values of shape (m,)\n",
    "    # function should return w of shape (n,)\n",
    "\n",
    "    X_transpose = X.transpose()\n",
    "    \n",
    "    A = np.matmul(X_transpose, X)\n",
    "    \n",
    "    c = np.matmul(X_transpose, Y)\n",
    "    \n",
    "    A_inverse = np.linalg.inv(A)\n",
    "    \n",
    "    w = np.matmul(A_inverse, c)\n",
    "    \n",
    "    return w\n",
    "    \n",
    "def predictlls(X,w):\n",
    "    # X is the (testing) data of shape (m,n)\n",
    "    # w are the weights learned in linear least-squares regression of shape (n,)\n",
    "    # function should return Y, the predicted values of shape (m,)\n",
    "    \n",
    "    # YOUR CODE HERE\n",
    "    \n",
    "    Y = np.matmul(X, w)\n",
    "    \n",
    "    return Y\n",
    "    \n",
    "def testlls(X,Y,w):\n",
    "    # X and Y are the testing data\n",
    "    # w are the weights from linear least-squares regression\n",
    "    # returns the mean squared errorv\n",
    "    Ydelta = Y - predictlls(X,w)\n",
    "    return (Ydelta*Ydelta).mean()"
   ]
  },
  {
   "cell_type": "code",
   "execution_count": null,
   "id": "1917a035",
   "metadata": {},
   "outputs": [],
   "source": [
    "# now code to check the training and testing errors:\n",
    "wreg = learnlls(trainX,trainYreg)\n",
    "print('training mean squared error: ',testlls(trainX,trainYreg,wreg))\n",
    "print('testing mean squared error:  ',testlls(testX,testYreg,wreg))"
   ]
  },
  {
   "cell_type": "code",
   "execution_count": null,
   "id": "f3b87b3e",
   "metadata": {},
   "outputs": [],
   "source": [
    "%%time\n",
    "## YOUR CODE HERE\n",
    "wreg = learnlls(trainX,trainYreg)\n",
    "\n",
    "\n",
    "\n",
    "weighttsExceptFirst = wreg[1:]\n",
    "\n",
    "\n",
    "ind =  np.argsort(-weighttsExceptFirst)\n",
    "\n",
    "ind = ind + 1\n",
    "\n",
    "# ind\n",
    "\n",
    "TrainingErrors = []\n",
    "\n",
    "TestingErrors =  []\n",
    "\n",
    "valusOfP = []\n",
    "\n",
    "print\n",
    "\n",
    "p = 50\n",
    "while p <= 1000:\n",
    "    valusOfP.append(p)\n",
    "    p += 50\n",
    "    \n",
    "for PVal in valusOfP:\n",
    "    colsToSelect = ind[:PVal-1]\n",
    "    # print(colsToSelect)\n",
    "    # print('-------------------------------------')\n",
    "    colsToSelectIncludingFeature0 = [0] + list(colsToSelect)\n",
    "\n",
    "    newTrainX = trainX[:, colsToSelectIncludingFeature0]\n",
    "    newTextX = testX[:, colsToSelectIncludingFeature0]\n",
    "    WeightsCalculatedAfterReducingFeatures = learnlls(newTrainX,trainYreg)\n",
    "    # print (WeightsCalculatedAfterReducingFeatures)\n",
    "    TrainingErrors.append(testlls(newTrainX,trainYreg,WeightsCalculatedAfterReducingFeatures))\n",
    "    TestingErrors.append(testlls(newTextX,testYreg,WeightsCalculatedAfterReducingFeatures))\n",
    "   \n",
    "plt.plot(valusOfP,TrainingErrors, label = 'training Error')\n",
    "plt.plot(valusOfP,TestingErrors, label = 'testing Error')\n",
    "plt.ylabel('Error')\n",
    "plt.xlabel('P values')\n",
    "plt.legend()\n",
    "plt.show()"
   ]
  }
 ],
 "metadata": {
  "kernelspec": {
   "display_name": "Python 3 (ipykernel)",
   "language": "python",
   "name": "python3"
  },
  "language_info": {
   "codemirror_mode": {
    "name": "ipython",
    "version": 3
   },
   "file_extension": ".py",
   "mimetype": "text/x-python",
   "name": "python",
   "nbconvert_exporter": "python",
   "pygments_lexer": "ipython3",
   "version": "3.9.13"
  }
 },
 "nbformat": 4,
 "nbformat_minor": 5
}
